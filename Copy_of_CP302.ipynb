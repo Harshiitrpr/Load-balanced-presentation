{
  "nbformat": 4,
  "nbformat_minor": 0,
  "metadata": {
    "colab": {
      "provenance": [],
      "include_colab_link": true
    },
    "kernelspec": {
      "name": "python3",
      "display_name": "Python 3"
    },
    "language_info": {
      "name": "python"
    }
  },
  "cells": [
    {
      "cell_type": "markdown",
      "metadata": {
        "id": "view-in-github",
        "colab_type": "text"
      },
      "source": [
        "<a href=\"https://colab.research.google.com/github/Harshiitrpr/Load-balanced-presentation/blob/main/Copy_of_CP302.ipynb\" target=\"_parent\"><img src=\"https://colab.research.google.com/assets/colab-badge.svg\" alt=\"Open In Colab\"/></a>"
      ]
    },
    {
      "cell_type": "markdown",
      "source": [
        "#12 Load Balanced Demand Distribution under Overload Penalties\n"
      ],
      "metadata": {
        "id": "wDYp644csIs7"
      }
    },
    {
      "cell_type": "markdown",
      "source": [
        "##Naive code to get idea of problem "
      ],
      "metadata": {
        "id": "JBZmz5iNsD-T"
      }
    },
    {
      "cell_type": "code",
      "source": [
        "# Bellman Ford algorithm for min path"
      ],
      "metadata": {
        "id": "IUsz19Jr2smM"
      },
      "execution_count": null,
      "outputs": []
    },
    {
      "cell_type": "code",
      "source": [
        "# negative cycle\n",
        "def negative_cycle_refinement(current_allotment, service_center, allotment_subspace_multigraph, number_of_service_centers):\n",
        "  # : Create NegCycle allotment subspace graph NP athΓ(A, SCθ) with SCθ as the anchor vertex\n",
        "  negCycle = []\n",
        "  s_in = number_of_service_centers\n",
        "  s_out = service_center\n",
        "  # initialize negCycle\n",
        "  for i in range(number_of_service_centers + 1):\n",
        "    row = []\n",
        "    for j in range(number_of_service_centers + 1):\n",
        "      row.append(0)\n",
        "    negCycle.append(row)\n",
        "  # add edge values to negCycle\n",
        "  for i in range(number_of_service_centers):\n",
        "    for j in range(number_of_service_centers):\n",
        "      if (i != service_center and j  != service_center):\n",
        "        negCycle[i][j] = # top of (i,j) minHeap in allotment_subspace_multigraph\n",
        "      elif (i == service_center):\n",
        "        negCycle[s_out][j] = # top of (service_center, j) minHeap\n",
        "      elif (j == service_center):\n",
        "        negCycle[i][s_in] = # top of (i, service_center) minHeap\n",
        "      else :\n",
        "        negCycle[i][j] = 0\n",
        "  #   : Find lowest cost path Pmin in NCycΓ(A, SCθ) from wout to win\n",
        "  p_min = bellman_ford(negCycle, s_in, s_out)\n",
        "  # 4: if Cost of Pmin < 0 then\n",
        "  # 5: for each demand node transfer < sold, dn, snew > ∈ Pmin do\n",
        "  # 6: B ← change A by removing dn from sp and adding it to sq.\n",
        "  # 7: Update ΓDS\n",
        "  # 8: A ← B\n",
        "  # 9: ∆ ← ∆ + Cost of corresponding edge in Pmin /* CM(dn, sp) −\n",
        "  # CM(dn, sq) */\n",
        "  # 10: end for\n",
        "  # 11: end if\n",
        "  # 12: Return new allotment B"
      ],
      "metadata": {
        "id": "Wh_BQYwGz6CX"
      },
      "execution_count": null,
      "outputs": []
    },
    {
      "cell_type": "code",
      "source": [
        "# negative path\n",
        "def negative_path_refinement(current_allotment, service_center, allotment_subspace_multigraph, number_of_service_centers):\n",
        "  # : Create Negpath allotment subspace graph NP athΓ(A, SCθ) with SCθ as the anchor vertex\n",
        "  negPath = []\n",
        "  s_out = service_center\n",
        "  s_in = number_of_service_centers\n",
        "  # initialize negCycle\n",
        "  for i in range(number_of_service_centers + 1):\n",
        "    row = []\n",
        "    for j in range(number_of_service_centers + 1):\n",
        "      row.append(0)\n",
        "    negPath.append(row)\n",
        "  # add edge values to negpath\n",
        "  for i in range(number_of_service_centers):\n",
        "    for j in range(number_of_service_centers):\n",
        "      if(i != service_center and j != service_center):\n",
        "        negPath[i][j] = # top of (i, j) minHeap in allotment_subspace\n",
        "      elif(i == service_center):\n",
        "        negPath[s_out][j] = # top of (service_center, j) minheap in allotment_subspace\n",
        "      elif(j == service_center):\n",
        "        negPath[i][s_in] = # top of (i, service_Center) minheap in allotment_subspace\n",
        "      else :\n",
        "        negPath[i][j] = 0\n",
        "  # Find lowest cost path Pmin in NP athΓ(A) from wout to win\n",
        "  p_min = bellman_ford(negPath, s_in, s_out)\n",
        "  #   if Cost of Pmin < 0 then\n",
        "  # 5: for each demand node transfer < sp, dn, sq > ∈ Pmin do\n",
        "  # 6: F ← Change A by removing dn from sp and adding it to sq.\n",
        "  # 7: Update ΓDS\n",
        "  # 8: A ← F\n",
        "  # 9: ∆ ← ∆ + Cost of corresponding edge in Pmin\n",
        "  # 10: end for\n",
        "  # 11: ∆ ← ∆+ Cost of last edge in Pmin /*This edge represents difference\n",
        "  # in penalties.\n",
        "  # 12: end if\n",
        "  # 13: Return new allotment B"
      ],
      "metadata": {
        "id": "oWRftHuuz_dc"
      },
      "execution_count": null,
      "outputs": []
    },
    {
      "cell_type": "code",
      "source": [
        "# main algorithm\n",
        "def demand_distribution(service_nodes, demand_nodes, cost_matrix, penalty_matrix):\n",
        "  #   For each di ∈ D determine the “most suitable” service center and create\n",
        "  # a MinDistance heap with all <demand unit-best service center> pairs\n",
        "  # 2: Initialize objective function ∆ ← 0\n",
        "  # 3: Initialize current allotment i = 0; A1 ← NULL; Initialize ΓDS\n",
        "  # /*Precondition: Γ(A1) has no negative cost cycles */\n",
        "  # 4: while MinDistance heap is not empty do\n",
        "  # 5: i + +; < di\n",
        "  # , sj > ← extract-min on MinDistance heap\n",
        "  # 6: A2 ← Change A1 by allotting di to sj . Update ΓDS\n",
        "  # 7: A3 ← Negative Cycle refinement(A2,sj ) (using Algo 1)/*Invariant: A3 has no negative cost cycles */\n",
        "  # 8: if sj has vacancy then\n",
        "  # 9: Decrement capacity of sj\n",
        "  # 10: ∆ ← ∆ + CM(di, sj ) /*Increase objective function */\n",
        "  # 11: A1 ← A3\n",
        "  # 12: else/*Allotment leads to penalty at sj */\n",
        "  # 13: ∆ ← ∆ + CM(di, sj ) + qsj()\n",
        "  # 14: A4 ← Negative Path refinement(A3,sj ) (using Algo 4)/*Invariant: Γ(A4) has no negative cost cycles */\n",
        "  # 15: A1 ← A4\n",
        "  # 16: end if\n",
        "  # 17: end while"
      ],
      "metadata": {
        "id": "zmLgByKz0Ckg"
      },
      "execution_count": null,
      "outputs": []
    },
    {
      "cell_type": "code",
      "execution_count": null,
      "metadata": {
        "id": "FtZ0KzCzyGPK"
      },
      "outputs": [],
      "source": [
        "service_nodes = [1, 2]  # tuples (node_id, capacity -1 for infinity)\n",
        "demand_nodes = [3, 4, 5, 6, 7, 8, 9, 10  ]  \n",
        "cost_matrix = [] #tuples(service, demand, cost)\n"
      ]
    },
    {
      "cell_type": "code",
      "source": [
        "import spacy"
      ],
      "metadata": {
        "id": "ZOTy1vfiGEHM"
      },
      "execution_count": null,
      "outputs": []
    },
    {
      "cell_type": "code",
      "source": [
        "import re\n",
        "import pandas as pd\n",
        "import bs4\n",
        "import requests\n",
        "import spacy\n",
        "from spacy import displacy\n",
        "nlp = spacy.load('en_core_web_sm')\n",
        "\n",
        "from spacy.matcher import Matcher \n",
        "from spacy.tokens import Span \n",
        "\n",
        "import networkx as nx\n",
        "\n",
        "import matplotlib.pyplot as plt\n",
        "from tqdm import tqdm\n",
        "\n",
        "pd.set_option('display.max_colwidth', 200)\n",
        "%matplotlib inline"
      ],
      "metadata": {
        "id": "PjiUg6tbNvl7"
      },
      "execution_count": null,
      "outputs": []
    },
    {
      "cell_type": "code",
      "source": [
        "nlp = spacy.load('en_core_web_sm')\n",
        "\n",
        "doc = nlp(\"Ratan Tata was born in a parsi family. Population of Haryana has 13% muslim population.\")\n",
        "\n",
        "for tok in doc:\n",
        "    print(tok.text, \"...\", tok.dep_)"
      ],
      "metadata": {
        "colab": {
          "base_uri": "https://localhost:8080/"
        },
        "id": "HuXOt1wgGFNt",
        "outputId": "49c95ac4-1a36-49ee-d893-b2619c55252d"
      },
      "execution_count": null,
      "outputs": [
        {
          "output_type": "stream",
          "name": "stdout",
          "text": [
            "Ratan ... compound\n",
            "Tata ... nsubjpass\n",
            "was ... auxpass\n",
            "born ... ROOT\n",
            "in ... prep\n",
            "a ... det\n",
            "parsi ... amod\n",
            "family ... pobj\n",
            ". ... punct\n",
            "Population ... nsubj\n",
            "of ... prep\n",
            "Haryana ... pobj\n",
            "has ... ROOT\n",
            "13 ... nummod\n",
            "% ... nmod\n",
            "muslim ... amod\n",
            "population ... dobj\n",
            ". ... punct\n"
          ]
        }
      ]
    },
    {
      "cell_type": "code",
      "source": [
        "import re\n",
        "import pandas as pd\n",
        "import bs4\n",
        "import requests\n",
        "import spacy\n",
        "from spacy import displacy\n",
        "nlp = spacy.load('en_core_web_sm')\n",
        "\n",
        "from spacy.matcher import Matcher \n",
        "from spacy.tokens import Span \n",
        "\n",
        "import networkx as nx\n",
        "\n",
        "import matplotlib.pyplot as plt\n",
        "from tqdm import tqdm\n",
        "\n",
        "pd.set_option('display.max_colwidth', 200)\n",
        "%matplotlib inline"
      ],
      "metadata": {
        "id": "JDIsH6iQGT8U"
      },
      "execution_count": null,
      "outputs": []
    },
    {
      "cell_type": "code",
      "source": [
        "candidate_sentences = pd.read_csv(\"/content/wiki_sentences_v2.csv\")\n",
        "candidate_sentences.shape"
      ],
      "metadata": {
        "colab": {
          "base_uri": "https://localhost:8080/"
        },
        "id": "TWgv70oXICWi",
        "outputId": "cbe2d3f9-be21-4b09-b50e-7e56bab5a812"
      },
      "execution_count": null,
      "outputs": [
        {
          "output_type": "execute_result",
          "data": {
            "text/plain": [
              "(4318, 1)"
            ]
          },
          "metadata": {},
          "execution_count": 6
        }
      ]
    },
    {
      "cell_type": "code",
      "source": [
        "!pip install kdap"
      ],
      "metadata": {
        "colab": {
          "base_uri": "https://localhost:8080/",
          "height": 1000
        },
        "id": "am-3yKx9O0kE",
        "outputId": "48e23561-a618-4783-fcf9-130c79e3bb9a"
      },
      "execution_count": null,
      "outputs": [
        {
          "output_type": "stream",
          "name": "stdout",
          "text": [
            "Looking in indexes: https://pypi.org/simple, https://us-python.pkg.dev/colab-wheels/public/simple/\n",
            "Collecting kdap\n",
            "  Downloading kdap-0.1.29-py3-none-any.whl (52 kB)\n",
            "\u001b[K     |████████████████████████████████| 52 kB 1.5 MB/s \n",
            "\u001b[?25hCollecting pycountry\n",
            "  Downloading pycountry-22.3.5.tar.gz (10.1 MB)\n",
            "\u001b[K     |████████████████████████████████| 10.1 MB 34.5 MB/s \n",
            "\u001b[?25h  Installing build dependencies ... \u001b[?25l\u001b[?25hdone\n",
            "  Getting requirements to build wheel ... \u001b[?25l\u001b[?25hdone\n",
            "    Preparing wheel metadata ... \u001b[?25l\u001b[?25hdone\n",
            "Collecting internetarchive==1.8.5\n",
            "  Downloading internetarchive-1.8.5-py2.py3-none-any.whl (85 kB)\n",
            "\u001b[K     |████████████████████████████████| 85 kB 4.4 MB/s \n",
            "\u001b[?25hCollecting nltk==3.4.5\n",
            "  Downloading nltk-3.4.5.zip (1.5 MB)\n",
            "\u001b[K     |████████████████████████████████| 1.5 MB 47.7 MB/s \n",
            "\u001b[?25hCollecting pyunpack\n",
            "  Downloading pyunpack-0.3-py2.py3-none-any.whl (4.1 kB)\n",
            "Collecting xmltodict\n",
            "  Downloading xmltodict-0.13.0-py2.py3-none-any.whl (10.0 kB)\n",
            "Collecting psutil>=5.6.6\n",
            "  Downloading psutil-5.9.2-cp37-cp37m-manylinux_2_12_x86_64.manylinux2010_x86_64.manylinux_2_17_x86_64.manylinux2014_x86_64.whl (281 kB)\n",
            "\u001b[K     |████████████████████████████████| 281 kB 70.6 MB/s \n",
            "\u001b[?25hCollecting mwparserfromhell==0.5.4\n",
            "  Downloading mwparserfromhell-0.5.4.tar.gz (135 kB)\n",
            "\u001b[K     |████████████████████████████████| 135 kB 70.8 MB/s \n",
            "\u001b[?25hRequirement already satisfied: matplotlib in /usr/local/lib/python3.7/dist-packages (from kdap) (3.2.2)\n",
            "Collecting bx-python\n",
            "  Downloading bx_python-0.9.0-cp37-cp37m-manylinux_2_17_x86_64.manylinux2014_x86_64.whl (4.3 MB)\n",
            "\u001b[K     |████████████████████████████████| 4.3 MB 47.5 MB/s \n",
            "\u001b[?25hRequirement already satisfied: numpy in /usr/local/lib/python3.7/dist-packages (from kdap) (1.21.6)\n",
            "Collecting requests==2.21.0\n",
            "  Downloading requests-2.21.0-py2.py3-none-any.whl (57 kB)\n",
            "\u001b[K     |████████████████████████████████| 57 kB 4.3 MB/s \n",
            "\u001b[?25hCollecting patool\n",
            "  Downloading patool-1.12-py2.py3-none-any.whl (77 kB)\n",
            "\u001b[K     |████████████████████████████████| 77 kB 6.8 MB/s \n",
            "\u001b[?25hCollecting mwviews\n",
            "  Downloading mwviews-0.2.1-py3-none-any.whl (9.8 kB)\n",
            "Collecting wikipedia\n",
            "  Downloading wikipedia-1.4.0.tar.gz (27 kB)\n",
            "Requirement already satisfied: prettytable in /usr/local/lib/python3.7/dist-packages (from kdap) (3.4.1)\n",
            "Collecting clint<0.6.0,>=0.4.0\n",
            "  Downloading clint-0.5.1.tar.gz (29 kB)\n",
            "Requirement already satisfied: six<2.0.0,>=1.0.0 in /usr/local/lib/python3.7/dist-packages (from internetarchive==1.8.5->kdap) (1.15.0)\n",
            "Collecting total-ordering\n",
            "  Downloading total-ordering-0.1.0.tar.gz (1.8 kB)\n",
            "Collecting backports.csv<1.07\n",
            "  Downloading backports.csv-1.0.7-py2.py3-none-any.whl (12 kB)\n",
            "Collecting docopt<0.7.0,>=0.6.0\n",
            "  Downloading docopt-0.6.2.tar.gz (25 kB)\n",
            "Collecting schema>=0.4.0\n",
            "  Downloading schema-0.7.5-py2.py3-none-any.whl (17 kB)\n",
            "Collecting jsonpatch>=0.4\n",
            "  Downloading jsonpatch-1.32-py2.py3-none-any.whl (12 kB)\n",
            "Requirement already satisfied: chardet<3.1.0,>=3.0.2 in /usr/local/lib/python3.7/dist-packages (from requests==2.21.0->kdap) (3.0.4)\n",
            "Requirement already satisfied: urllib3<1.25,>=1.21.1 in /usr/local/lib/python3.7/dist-packages (from requests==2.21.0->kdap) (1.24.3)\n",
            "Requirement already satisfied: certifi>=2017.4.17 in /usr/local/lib/python3.7/dist-packages (from requests==2.21.0->kdap) (2022.6.15)\n",
            "Collecting idna<2.9,>=2.5\n",
            "  Downloading idna-2.8-py2.py3-none-any.whl (58 kB)\n",
            "\u001b[K     |████████████████████████████████| 58 kB 6.4 MB/s \n",
            "\u001b[?25hCollecting args\n",
            "  Downloading args-0.1.0.tar.gz (3.0 kB)\n",
            "Collecting jsonpointer>=1.9\n",
            "  Downloading jsonpointer-2.3-py2.py3-none-any.whl (7.8 kB)\n",
            "Requirement already satisfied: contextlib2>=0.5.5 in /usr/local/lib/python3.7/dist-packages (from schema>=0.4.0->internetarchive==1.8.5->kdap) (0.5.5)\n",
            "Requirement already satisfied: kiwisolver>=1.0.1 in /usr/local/lib/python3.7/dist-packages (from matplotlib->kdap) (1.4.4)\n",
            "Requirement already satisfied: python-dateutil>=2.1 in /usr/local/lib/python3.7/dist-packages (from matplotlib->kdap) (2.8.2)\n",
            "Requirement already satisfied: cycler>=0.10 in /usr/local/lib/python3.7/dist-packages (from matplotlib->kdap) (0.11.0)\n",
            "Requirement already satisfied: pyparsing!=2.0.4,!=2.1.2,!=2.1.6,>=2.0.1 in /usr/local/lib/python3.7/dist-packages (from matplotlib->kdap) (3.0.9)\n",
            "Requirement already satisfied: typing-extensions in /usr/local/lib/python3.7/dist-packages (from kiwisolver>=1.0.1->matplotlib->kdap) (4.1.1)\n",
            "Requirement already satisfied: more-itertools in /usr/local/lib/python3.7/dist-packages (from mwviews->kdap) (8.14.0)\n",
            "Collecting mwcli\n",
            "  Downloading mwcli-0.0.3-py2.py3-none-any.whl (8.4 kB)\n",
            "Collecting mwapi\n",
            "  Downloading mwapi-0.6.1-py2.py3-none-any.whl (12 kB)\n",
            "Requirement already satisfied: aiohttp in /usr/local/lib/python3.7/dist-packages (from mwapi->mwviews->kdap) (3.8.1)\n",
            "Requirement already satisfied: aiosignal>=1.1.2 in /usr/local/lib/python3.7/dist-packages (from aiohttp->mwapi->mwviews->kdap) (1.2.0)\n",
            "Requirement already satisfied: yarl<2.0,>=1.0 in /usr/local/lib/python3.7/dist-packages (from aiohttp->mwapi->mwviews->kdap) (1.8.1)\n",
            "Requirement already satisfied: charset-normalizer<3.0,>=2.0 in /usr/local/lib/python3.7/dist-packages (from aiohttp->mwapi->mwviews->kdap) (2.1.1)\n",
            "Requirement already satisfied: asynctest==0.13.0 in /usr/local/lib/python3.7/dist-packages (from aiohttp->mwapi->mwviews->kdap) (0.13.0)\n",
            "Requirement already satisfied: multidict<7.0,>=4.5 in /usr/local/lib/python3.7/dist-packages (from aiohttp->mwapi->mwviews->kdap) (6.0.2)\n",
            "Requirement already satisfied: frozenlist>=1.1.1 in /usr/local/lib/python3.7/dist-packages (from aiohttp->mwapi->mwviews->kdap) (1.3.1)\n",
            "Requirement already satisfied: attrs>=17.3.0 in /usr/local/lib/python3.7/dist-packages (from aiohttp->mwapi->mwviews->kdap) (22.1.0)\n",
            "Requirement already satisfied: async-timeout<5.0,>=4.0.0a3 in /usr/local/lib/python3.7/dist-packages (from aiohttp->mwapi->mwviews->kdap) (4.0.2)\n",
            "Collecting para\n",
            "  Downloading para-0.0.8-py3-none-any.whl (6.5 kB)\n",
            "Collecting mwxml\n",
            "  Downloading mwxml-0.3.3-py2.py3-none-any.whl (32 kB)\n",
            "Collecting mwtypes>=0.3.0\n",
            "  Downloading mwtypes-0.3.2-py2.py3-none-any.whl (21 kB)\n",
            "Requirement already satisfied: jsonschema>=2.5.1 in /usr/local/lib/python3.7/dist-packages (from mwxml->mwcli->mwviews->kdap) (4.3.3)\n",
            "Requirement already satisfied: pyrsistent!=0.17.0,!=0.17.1,!=0.17.2,>=0.14.0 in /usr/local/lib/python3.7/dist-packages (from jsonschema>=2.5.1->mwxml->mwcli->mwviews->kdap) (0.18.1)\n",
            "Requirement already satisfied: importlib-resources>=1.4.0 in /usr/local/lib/python3.7/dist-packages (from jsonschema>=2.5.1->mwxml->mwcli->mwviews->kdap) (5.9.0)\n",
            "Requirement already satisfied: importlib-metadata in /usr/local/lib/python3.7/dist-packages (from jsonschema>=2.5.1->mwxml->mwcli->mwviews->kdap) (4.12.0)\n",
            "Requirement already satisfied: zipp>=3.1.0 in /usr/local/lib/python3.7/dist-packages (from importlib-resources>=1.4.0->jsonschema>=2.5.1->mwxml->mwcli->mwviews->kdap) (3.8.1)\n",
            "Collecting jsonable>=0.3.0\n",
            "  Downloading jsonable-0.3.1-py2.py3-none-any.whl (11 kB)\n",
            "Requirement already satisfied: wcwidth in /usr/local/lib/python3.7/dist-packages (from prettytable->kdap) (0.2.5)\n",
            "Requirement already satisfied: setuptools in /usr/local/lib/python3.7/dist-packages (from pycountry->kdap) (57.4.0)\n",
            "Collecting entrypoint2\n",
            "  Downloading entrypoint2-1.1-py2.py3-none-any.whl (9.9 kB)\n",
            "Collecting easyprocess\n",
            "  Downloading EasyProcess-1.1-py3-none-any.whl (8.7 kB)\n",
            "Requirement already satisfied: beautifulsoup4 in /usr/local/lib/python3.7/dist-packages (from wikipedia->kdap) (4.6.3)\n",
            "Building wheels for collected packages: mwparserfromhell, nltk, clint, docopt, args, pycountry, total-ordering, wikipedia\n",
            "  Building wheel for mwparserfromhell (setup.py) ... \u001b[?25l\u001b[?25hdone\n",
            "  Created wheel for mwparserfromhell: filename=mwparserfromhell-0.5.4-cp37-cp37m-linux_x86_64.whl size=185554 sha256=53ed3113eb2063201aaf4cf0da77cffbb8c491d92af7a88743f462c58255ea02\n",
            "  Stored in directory: /root/.cache/pip/wheels/fb/5e/32/21387964c6802f6f5686369fa9abd9eda040d5ef762fe9ca8c\n",
            "  Building wheel for nltk (setup.py) ... \u001b[?25l\u001b[?25hdone\n",
            "  Created wheel for nltk: filename=nltk-3.4.5-py3-none-any.whl size=1449923 sha256=4f6c0500b77866feff648d488f47ebdc7dcc7f581120bcb96ee497f6cb66e4d3\n",
            "  Stored in directory: /root/.cache/pip/wheels/48/8b/7f/473521e0c731c6566d631b281f323842bbda9bd819eb9a3ead\n",
            "  Building wheel for clint (setup.py) ... \u001b[?25l\u001b[?25hdone\n",
            "  Created wheel for clint: filename=clint-0.5.1-py3-none-any.whl size=34473 sha256=b600e36a6ffb455e665bae3f7e85ed343dba1b6c158c94f477a7377f680d5fa0\n",
            "  Stored in directory: /root/.cache/pip/wheels/29/97/84/72d17bd67a52abe83c647807c3d77dc4d7c1d7709d7077a5f3\n",
            "  Building wheel for docopt (setup.py) ... \u001b[?25l\u001b[?25hdone\n",
            "  Created wheel for docopt: filename=docopt-0.6.2-py2.py3-none-any.whl size=13723 sha256=053b692b5a773cda1bc8a82de5c3e0846a931f4ce1a2d37e8cde5e798fe9e786\n",
            "  Stored in directory: /root/.cache/pip/wheels/72/b0/3f/1d95f96ff986c7dfffe46ce2be4062f38ebd04b506c77c81b9\n",
            "  Building wheel for args (setup.py) ... \u001b[?25l\u001b[?25hdone\n",
            "  Created wheel for args: filename=args-0.1.0-py3-none-any.whl size=3318 sha256=c658596b7c417b4a53d951e0b11f3fcab6fc79162a166b1ca64a2eb9736f956c\n",
            "  Stored in directory: /root/.cache/pip/wheels/6c/9c/cb/445bf22cb64c8cf6a84de63d48ba885470cdf08e77416b6e7a\n",
            "  Building wheel for pycountry (PEP 517) ... \u001b[?25l\u001b[?25hdone\n",
            "  Created wheel for pycountry: filename=pycountry-22.3.5-py2.py3-none-any.whl size=10681845 sha256=f2870e214df194040d0ac87015b21251b6799668eee6b37d67bf4a897825cb95\n",
            "  Stored in directory: /root/.cache/pip/wheels/0e/06/e8/7ee176e95ea9a8a8c3b3afcb1869f20adbd42413d4611c6eb4\n",
            "  Building wheel for total-ordering (setup.py) ... \u001b[?25l\u001b[?25hdone\n",
            "  Created wheel for total-ordering: filename=total_ordering-0.1.0-py3-none-any.whl size=2076 sha256=186bd72a089487f9540432f075c2c2a90e51c6e5f313074d0095d71034f5ed17\n",
            "  Stored in directory: /root/.cache/pip/wheels/66/85/a5/aa908eacc0ab5ecccaac7d3d8f5fbb63b40b7fe971b812f10c\n",
            "  Building wheel for wikipedia (setup.py) ... \u001b[?25l\u001b[?25hdone\n",
            "  Created wheel for wikipedia: filename=wikipedia-1.4.0-py3-none-any.whl size=11695 sha256=9af8ce68ce40fade516aaca2205f7208a3a63d3b24155f3b9910873cbad54499\n",
            "  Stored in directory: /root/.cache/pip/wheels/15/93/6d/5b2c68b8a64c7a7a04947b4ed6d89fb557dcc6bc27d1d7f3ba\n",
            "Successfully built mwparserfromhell nltk clint docopt args pycountry total-ordering wikipedia\n",
            "Installing collected packages: jsonable, idna, para, mwtypes, requests, mwxml, jsonpointer, docopt, args, total-ordering, schema, mwcli, mwapi, jsonpatch, entrypoint2, easyprocess, clint, backports.csv, xmltodict, wikipedia, pyunpack, pycountry, psutil, patool, nltk, mwviews, mwparserfromhell, internetarchive, bx-python, kdap\n",
            "  Attempting uninstall: idna\n",
            "    Found existing installation: idna 2.10\n",
            "    Uninstalling idna-2.10:\n",
            "      Successfully uninstalled idna-2.10\n",
            "  Attempting uninstall: requests\n",
            "    Found existing installation: requests 2.23.0\n",
            "    Uninstalling requests-2.23.0:\n",
            "      Successfully uninstalled requests-2.23.0\n",
            "  Attempting uninstall: psutil\n",
            "    Found existing installation: psutil 5.4.8\n",
            "    Uninstalling psutil-5.4.8:\n",
            "      Successfully uninstalled psutil-5.4.8\n",
            "  Attempting uninstall: nltk\n",
            "    Found existing installation: nltk 3.7\n",
            "    Uninstalling nltk-3.7:\n",
            "      Successfully uninstalled nltk-3.7\n",
            "\u001b[31mERROR: pip's dependency resolver does not currently take into account all the packages that are installed. This behaviour is the source of the following dependency conflicts.\n",
            "google-colab 1.0.0 requires requests>=2.23.0, but you have requests 2.21.0 which is incompatible.\u001b[0m\n",
            "Successfully installed args-0.1.0 backports.csv-1.0.7 bx-python-0.9.0 clint-0.5.1 docopt-0.6.2 easyprocess-1.1 entrypoint2-1.1 idna-2.8 internetarchive-1.8.5 jsonable-0.3.1 jsonpatch-1.32 jsonpointer-2.3 kdap-0.1.29 mwapi-0.6.1 mwcli-0.0.3 mwparserfromhell-0.5.4 mwtypes-0.3.2 mwviews-0.2.1 mwxml-0.3.3 nltk-3.4.5 para-0.0.8 patool-1.12 psutil-5.9.2 pycountry-22.3.5 pyunpack-0.3 requests-2.21.0 schema-0.7.5 total-ordering-0.1.0 wikipedia-1.4.0 xmltodict-0.13.0\n"
          ]
        },
        {
          "output_type": "display_data",
          "data": {
            "application/vnd.colab-display-data+json": {
              "pip_warning": {
                "packages": [
                  "idna",
                  "psutil",
                  "requests"
                ]
              }
            }
          },
          "metadata": {}
        }
      ]
    },
    {
      "cell_type": "code",
      "source": [
        "import kdap"
      ],
      "metadata": {
        "id": "wCKi45PhJA_l"
      },
      "execution_count": null,
      "outputs": []
    },
    {
      "cell_type": "code",
      "source": [
        "d"
      ],
      "metadata": {
        "id": "2LZ65EdpJI9C"
      },
      "execution_count": null,
      "outputs": []
    }
  ]
}